{
 "cells": [
  {
   "cell_type": "code",
   "execution_count": null,
   "metadata": {},
   "outputs": [],
   "source": [
    "import geopandas as gpd\n",
    "import matplotlib.pyplot as plt\n",
    "from matplotlib.animation import FuncAnimation\n",
    "from ipywidgets import HTML\n",
    "from ipyleaflet import Map, Marker, MarkerCluster\n",
    "\n",
    "# 替换为您的轨迹点的实际纬度和经度数据\n",
    "latitude_list = [1,2,3]\n",
    "longitude_list = [2,3,4]\n",
    "\n",
    "def plot_trajectory_on_map(latitude_list, longitude_list):\n",
    "    # 创建一个geopandas的GeoDataFrame\n",
    "    gdf = gpd.GeoDataFrame({'geometry': gpd.points_from_xy(longitude_list, latitude_list)})\n",
    "\n",
    "    # 计算轨迹的边界框（bounding box）\n",
    "    min_x, min_y, max_x, max_y = gdf.geometry.total_bounds\n",
    "\n",
    "    # 创建地图对象\n",
    "    my_map = Map(center=[latitude_list[0], longitude_list[0]], zoom=15)\n",
    "\n",
    "    # 创建MarkerCluster用于显示轨迹点\n",
    "    marker_cluster = MarkerCluster()\n",
    "    my_map.add_layer(marker_cluster)\n",
    "\n",
    "    # 添加轨迹点到地图\n",
    "    for lat, lon in zip(latitude_list, longitude_list):\n",
    "        marker = Marker(location=(lat, lon))\n",
    "        marker_cluster.add_layer(marker)\n",
    "\n",
    "    def update(frame):\n",
    "        # 在动画中逐步绘制轨迹点\n",
    "        lat, lon = latitude_list[frame], longitude_list[frame]\n",
    "        marker_cluster.clear_layers()\n",
    "        for lat, lon in zip(latitude_list[:frame+1], longitude_list[:frame+1]):\n",
    "            marker = Marker(location=(lat, lon))\n",
    "            marker_cluster.add_layer(marker)\n",
    "\n",
    "    # 创建动画\n",
    "    num_frames = len(latitude_list)\n",
    "    animation = FuncAnimation(fig=my_map, func=update, frames=num_frames, interval=200)\n",
    "\n",
    "    # 在Jupyter Notebook中显示地图\n",
    "    display(my_map)\n",
    "\n",
    "if __name__ == \"__main__\":\n",
    "    plot_trajectory_on_map(latitude_list, longitude_list)\n"
   ]
  }
 ],
 "metadata": {
  "language_info": {
   "name": "python"
  },
  "orig_nbformat": 4
 },
 "nbformat": 4,
 "nbformat_minor": 2
}
